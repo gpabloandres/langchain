{
 "cells": [
  {
   "cell_type": "code",
   "execution_count": 16,
   "metadata": {},
   "outputs": [],
   "source": [
    "# Importar las librerías necesarias.\n",
    "import os\n",
    "from dotenv import load_dotenv\n",
    "from langchain_google_genai import ChatGoogleGenerativeAI\n",
    "from langchain.prompts import PromptTemplate\n",
    "from langchain.chains import LLMChain"
   ]
  },
  {
   "cell_type": "code",
   "execution_count": 17,
   "metadata": {},
   "outputs": [
    {
     "data": {
      "text/plain": [
       "True"
      ]
     },
     "execution_count": 17,
     "metadata": {},
     "output_type": "execute_result"
    }
   ],
   "source": [
    "# Cargar variables de entorno\n",
    "load_dotenv()"
   ]
  },
  {
   "cell_type": "code",
   "execution_count": 18,
   "metadata": {},
   "outputs": [],
   "source": [
    "# Acceder y configurar el modelo de IA: Gemini\n",
    "llm = ChatGoogleGenerativeAI(model=\"gemini-2.0-flash-exp\",\n",
    "                             google_api_key=os.getenv(\"GOOGLE_API_KEY\"),\n",
    "                             temperature=0.3\n",
    ")"
   ]
  },
  {
   "cell_type": "code",
   "execution_count": 19,
   "metadata": {},
   "outputs": [],
   "source": [
    "# Crear una plantilla de prompt: Crear el texto dinámico\n",
    "mi_template = \"\"\"Actúa como un experto en {tema}.\n",
    "Proporciona una explicación corta y simple sobre: {concepto}\n",
    "\"\"\""
   ]
  },
  {
   "cell_type": "code",
   "execution_count": 20,
   "metadata": {},
   "outputs": [],
   "source": [
    "# Crear una plantilla de prompt: Crear la plantilla\n",
    "prompt = PromptTemplate(\n",
    "    input_variables=[\"tema\", \"concepto\"],\n",
    "    template=mi_template\n",
    ")"
   ]
  },
  {
   "cell_type": "code",
   "execution_count": 21,
   "metadata": {},
   "outputs": [],
   "source": [
    "# Crear una cadena\n",
    "chain = prompt | llm"
   ]
  },
  {
   "cell_type": "code",
   "execution_count": 22,
   "metadata": {},
   "outputs": [],
   "source": [
    "# Ejecutar la cadena\n",
    "response = chain.invoke({\n",
    "    \"tema\": \"inteligencia artificial\",\n",
    "    \"concepto\": \"transformers\"\n",
    "})"
   ]
  },
  {
   "cell_type": "code",
   "execution_count": 23,
   "metadata": {},
   "outputs": [
    {
     "name": "stdout",
     "output_type": "stream",
     "text": [
      "¡Claro! Como experto en IA, te doy una explicación sencilla de los Transformers:\n",
      "\n",
      "**Imagina que tienes un traductor mágico que puede entender el contexto de una frase, no solo las palabras individuales.** Eso es, en esencia, lo que hacen los Transformers.\n",
      "\n",
      "**¿Cómo lo hacen?**\n",
      "\n",
      "*   **Atención:** En lugar de procesar las palabras una por una, los Transformers usan un mecanismo llamado \"atención\". Esto les permite prestar atención a diferentes partes de la frase al mismo tiempo, entendiendo cómo se relacionan entre sí. Es como si el traductor mágico pudiera ver todas las palabras a la vez y entender cómo influyen unas en otras.\n",
      "*   **Paralelización:** A diferencia de modelos anteriores que procesaban la información secuencialmente, los Transformers pueden procesar la información en paralelo. Esto los hace mucho más rápidos y eficientes.\n",
      "*   **Codificación y Decodificación:** Los Transformers suelen tener dos partes principales: un codificador que entiende la entrada (por ejemplo, una frase en español) y un decodificador que genera la salida (por ejemplo, la misma frase en inglés).\n",
      "\n",
      "**¿Para qué se usan?**\n",
      "\n",
      "Los Transformers son la base de muchos avances recientes en IA, como:\n",
      "\n",
      "*   **Procesamiento del Lenguaje Natural (PLN):** Traducción automática, generación de texto, chatbots, análisis de sentimientos, etc.\n",
      "*   **Visión por Computadora:** Reconocimiento de objetos en imágenes, generación de imágenes, etc.\n",
      "*   **Otras áreas:** Incluso se están usando en áreas como la genómica y el descubrimiento de fármacos.\n",
      "\n",
      "**En resumen:** Los Transformers son modelos de IA que usan la \"atención\" para entender el contexto de la información, procesarla de forma paralela y generar resultados impresionantes en diversas tareas. Son una de las arquitecturas más importantes y versátiles en el campo de la IA actual.\n",
      "\n",
      "¿Tienes alguna otra pregunta sobre Transformers o algún otro tema de IA? ¡Estaré encantado de ayudarte!\n",
      "\n"
     ]
    }
   ],
   "source": [
    "# Imprimir respuesta\n",
    "print(response.content)"
   ]
  }
 ],
 "metadata": {
  "kernelspec": {
   "display_name": ".venv",
   "language": "python",
   "name": "python3"
  },
  "language_info": {
   "codemirror_mode": {
    "name": "ipython",
    "version": 3
   },
   "file_extension": ".py",
   "mimetype": "text/x-python",
   "name": "python",
   "nbconvert_exporter": "python",
   "pygments_lexer": "ipython3",
   "version": "3.11.9"
  }
 },
 "nbformat": 4,
 "nbformat_minor": 2
}
