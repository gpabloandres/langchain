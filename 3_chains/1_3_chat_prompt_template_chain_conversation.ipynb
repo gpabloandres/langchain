{
 "cells": [
  {
   "cell_type": "code",
   "execution_count": 5,
   "metadata": {},
   "outputs": [],
   "source": [
    "# Importar las librerías necesarias.\n",
    "import os\n",
    "from dotenv import load_dotenv\n",
    "from langchain_google_genai import ChatGoogleGenerativeAI\n",
    "from langchain.prompts import PromptTemplate\n",
    "from langchain.chains import LLMChain\n",
    "from langchain.memory import ConversationBufferMemory"
   ]
  },
  {
   "cell_type": "code",
   "execution_count": 2,
   "metadata": {},
   "outputs": [
    {
     "data": {
      "text/plain": [
       "True"
      ]
     },
     "execution_count": 2,
     "metadata": {},
     "output_type": "execute_result"
    }
   ],
   "source": [
    "# Cargar variables de entorno\n",
    "load_dotenv()"
   ]
  },
  {
   "cell_type": "code",
   "execution_count": 3,
   "metadata": {},
   "outputs": [],
   "source": [
    "# Acceder y configurar el modelo de IA: Gemini\n",
    "llm = ChatGoogleGenerativeAI(model=\"gemini-2.0-flash-exp\",\n",
    "                             google_api_key=os.getenv(\"GOOGLE_API_KEY\"),\n",
    "                             temperature=0.3\n",
    ")"
   ]
  },
  {
   "cell_type": "code",
   "execution_count": 6,
   "metadata": {},
   "outputs": [
    {
     "name": "stderr",
     "output_type": "stream",
     "text": [
      "C:\\Users\\PABLO\\AppData\\Local\\Temp\\ipykernel_11616\\609263929.py:2: LangChainDeprecationWarning: Please see the migration guide at: https://python.langchain.com/docs/versions/migrating_memory/\n",
      "  memory = ConversationBufferMemory(memory_key=\"chat_history\", return_messages=True)\n"
     ]
    }
   ],
   "source": [
    "# Configurar memoria\n",
    "memory = ConversationBufferMemory(memory_key=\"chat_history\", return_messages=True)"
   ]
  },
  {
   "cell_type": "code",
   "execution_count": 7,
   "metadata": {},
   "outputs": [],
   "source": [
    "# Crear una plantilla para el chat: Crear el texto dinámico\n",
    "mi_template = \"\"\"La siguiente es una conversación amigable entre un humano y un asistente AI.\n",
    "Historial de la conversación:\n",
    "{chat_history}\n",
    "Humano: {input}\n",
    "Asistente:\"\"\""
   ]
  },
  {
   "cell_type": "code",
   "execution_count": 8,
   "metadata": {},
   "outputs": [],
   "source": [
    "# Crear una plantilla de prompt: Crear la plantilla\n",
    "prompt = PromptTemplate(\n",
    "    input_variables=[\"chat_history\", \"input\"],\n",
    "    template=mi_template\n",
    ")"
   ]
  },
  {
   "cell_type": "code",
   "execution_count": 9,
   "metadata": {},
   "outputs": [
    {
     "name": "stderr",
     "output_type": "stream",
     "text": [
      "C:\\Users\\PABLO\\AppData\\Local\\Temp\\ipykernel_11616\\1972478404.py:2: LangChainDeprecationWarning: The class `LLMChain` was deprecated in LangChain 0.1.17 and will be removed in 1.0. Use :meth:`~RunnableSequence, e.g., `prompt | llm`` instead.\n",
      "  conversation = LLMChain(\n"
     ]
    }
   ],
   "source": [
    "# Crear la cadena con memoria y plantilla\n",
    "conversation = LLMChain(\n",
    "    llm=llm,\n",
    "    prompt=prompt,\n",
    "    memory=memory,\n",
    "    verbose=True\n",
    ")"
   ]
  },
  {
   "cell_type": "code",
   "execution_count": 10,
   "metadata": {},
   "outputs": [
    {
     "name": "stdout",
     "output_type": "stream",
     "text": [
      "\n",
      "\n",
      "\u001b[1m> Entering new LLMChain chain...\u001b[0m\n",
      "Prompt after formatting:\n",
      "\u001b[32;1m\u001b[1;3mLa siguiente es una conversación amigable entre un humano y un asistente AI.\n",
      "Historial de la conversación:\n",
      "[]\n",
      "Humano: ¿Qué país ha ganado más mundiales de futbol?\n",
      "Asistente:\u001b[0m\n",
      "\n",
      "\u001b[1m> Finished chain.\u001b[0m\n",
      "Asistente: Brasil ha ganado la Copa Mundial de la FIFA en 5 ocasiones, más que ningún otro país.\n",
      "\n",
      "\n",
      "\n",
      "\u001b[1m> Entering new LLMChain chain...\u001b[0m\n",
      "Prompt after formatting:\n",
      "\u001b[32;1m\u001b[1;3mLa siguiente es una conversación amigable entre un humano y un asistente AI.\n",
      "Historial de la conversación:\n",
      "[HumanMessage(content='¿Qué país ha ganado más mundiales de futbol?', additional_kwargs={}, response_metadata={}), AIMessage(content='Asistente: Brasil ha ganado la Copa Mundial de la FIFA en 5 ocasiones, más que ningún otro país.\\n', additional_kwargs={}, response_metadata={})]\n",
      "Humano: Nombrame 5 goleadores históricos de esa selección\n",
      "Asistente:\u001b[0m\n",
      "\n",
      "\u001b[1m> Finished chain.\u001b[0m\n",
      "Asistente: Claro, aquí tienes 5 goleadores históricos de la selección brasileña:\n",
      "\n",
      "1.  **Pelé:** Considerado por muchos el mejor futbolista de todos los tiempos, Pelé anotó 77 goles en 92 partidos con la selección brasileña.\n",
      "2.  **Neymar:** El actual líder de la selección, Neymar ha superado la marca de Pelé en goles con la selección, con más de 79 goles.\n",
      "3.  **Ronaldo Nazário:** Conocido como \"El Fenómeno\", Ronaldo marcó 62 goles en 98 partidos con Brasil.\n",
      "4.  **Romário:** Un delantero letal, Romário anotó 55 goles en 70 partidos con la selección brasileña.\n",
      "5.  **Zico:** Un talentoso mediocampista ofensivo, Zico marcó 48 goles en 71 partidos con Brasil.\n",
      "\n",
      "\n",
      "\n",
      "\u001b[1m> Entering new LLMChain chain...\u001b[0m\n",
      "Prompt after formatting:\n",
      "\u001b[32;1m\u001b[1;3mLa siguiente es una conversación amigable entre un humano y un asistente AI.\n",
      "Historial de la conversación:\n",
      "[HumanMessage(content='¿Qué país ha ganado más mundiales de futbol?', additional_kwargs={}, response_metadata={}), AIMessage(content='Asistente: Brasil ha ganado la Copa Mundial de la FIFA en 5 ocasiones, más que ningún otro país.\\n', additional_kwargs={}, response_metadata={}), HumanMessage(content='Nombrame 5 goleadores históricos de esa selección', additional_kwargs={}, response_metadata={}), AIMessage(content='Asistente: Claro, aquí tienes 5 goleadores históricos de la selección brasileña:\\n\\n1.  **Pelé:** Considerado por muchos el mejor futbolista de todos los tiempos, Pelé anotó 77 goles en 92 partidos con la selección brasileña.\\n2.  **Neymar:** El actual líder de la selección, Neymar ha superado la marca de Pelé en goles con la selección, con más de 79 goles.\\n3.  **Ronaldo Nazário:** Conocido como \"El Fenómeno\", Ronaldo marcó 62 goles en 98 partidos con Brasil.\\n4.  **Romário:** Un delantero letal, Romário anotó 55 goles en 70 partidos con la selección brasileña.\\n5.  **Zico:** Un talentoso mediocampista ofensivo, Zico marcó 48 goles en 71 partidos con Brasil.\\n', additional_kwargs={}, response_metadata={})]\n",
      "Humano: ¿De qué color es su camiseta?\n",
      "Asistente:\u001b[0m\n",
      "\n",
      "\u001b[1m> Finished chain.\u001b[0m\n",
      "Asistente: La camiseta de la selección brasileña de fútbol es principalmente amarilla, con detalles verdes y azules.\n",
      "\n"
     ]
    }
   ],
   "source": [
    "# Ejemplo de conversación\n",
    "print(conversation.predict(input=\"¿Qué país ha ganado más mundiales de futbol?\"))\n",
    "print(conversation.predict(input=\"Nombrame 5 goleadores históricos de esa selección\"))\n",
    "print(conversation.predict(input=\"¿De qué color es su camiseta?\")) "
   ]
  }
 ],
 "metadata": {
  "kernelspec": {
   "display_name": ".venv",
   "language": "python",
   "name": "python3"
  },
  "language_info": {
   "codemirror_mode": {
    "name": "ipython",
    "version": 3
   },
   "file_extension": ".py",
   "mimetype": "text/x-python",
   "name": "python",
   "nbconvert_exporter": "python",
   "pygments_lexer": "ipython3",
   "version": "3.11.9"
  }
 },
 "nbformat": 4,
 "nbformat_minor": 2
}
